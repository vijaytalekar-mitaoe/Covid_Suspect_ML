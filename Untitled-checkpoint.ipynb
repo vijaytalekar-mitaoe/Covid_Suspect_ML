import pandas as pd
import numpy as np
import matplotlib.pyplot as plt
import seaborn as sns
from sklearn.ensemble import RandomForestRegressor
import pickle
from dataprep.eda.missing import plot_missing

from sklearn.model_selection import train_test_split
from sklearn import metrics
from sklearn.metrics import accuracy_score

covid = pd.read_csv('../input/symptoms-and-covid-presence/Covid Dataset.csv')
covid
covid.info()
covid.describe()

plot_missing(covid)
plt.title('Case Frequency')
plt.hist(x = 'COVID-19',data = covid)

covid['COVID-19'].value_counts().plot.pie(autopct='%1.1f%%',shadow=True)
plt.title('Case Frequency');

plt.title('Breathing Problem')
covid['Breathing Problem'].value_counts().plot.pie(autopct='%1.1f%%',shadow=True)

sns.countplot(x='Breathing Problem',hue= 'COVID-19',data= covid)
plt.hist(x= 'Fever',data= covid)

sns.countplot(x='Breathing Problem',hue= 'COVID-19',data= covid)

#Converting the object datatype to integer
covid.replace('Yes',1,inplace = True)
covid.replace('No',0,inplace = True)

covid.head(5)
covid.info()
covid.describe()
corr= covid.corr()
corr.style.background_gradient(cmap='coolwarm',axis=None)

covid.drop('Wearing Masks',axis= 1,inplace= True)
covid.drop('Sanitization from Market',axis= 1,inplace= True)
covid.drop('Running Nose',axis=1,inplace= True)
covid.drop('Asthma',axis=1,inplace= True)
covid.drop('Chronic Lung Disease',axis=1,inplace= True)
covid.drop('Headache',axis=1,inplace= True)
covid.drop('Fatigue ',axis=1,inplace= True)
covid.drop('Heart Disease',axis=1,inplace= True)
covid.drop('Diabetes',axis=1,inplace= True)
covid.drop('Gastrointestinal ',axis=1,inplace= True)

covid.corr().style.background_gradient(cmap= 'coolwarm',axis= None)
x=covid.drop('COVID-19',axis=1)
y=covid['COVID-19']

x_train, x_test, y_train, y_test = train_test_split(x, y, test_size = 0.10)
model = RandomForestRegressor(n_estimators=1000)
model.fit(x_train, y_train)

pickle.dump(model, open('model.save', 'wb'))
loaded_model = pickle.load(open('./model.save', 'rb'))
